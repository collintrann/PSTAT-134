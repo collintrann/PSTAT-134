{
 "cells": [
  {
   "cell_type": "markdown",
   "id": "57cfb36f-e845-4cd6-afc5-a0a9044f6e21",
   "metadata": {
    "id": "57cfb36f-e845-4cd6-afc5-a0a9044f6e21"
   },
   "source": [
    "# PSTAT 134 Final Project\n",
    "## Netflix Recommender System\n",
    "Mollie Jiang, Sean Reagan, Sharon Lee, Uy Tran"
   ]
  },
  {
   "cell_type": "code",
   "execution_count": 2,
   "id": "l6nexR1oEwDS",
   "metadata": {
    "colab": {
     "base_uri": "https://localhost:8080/"
    },
    "id": "l6nexR1oEwDS",
    "outputId": "d6f516b7-968a-4201-d069-d41305c4b0c5"
   },
   "outputs": [
    {
     "name": "stdout",
     "output_type": "stream",
     "text": [
      "Drive already mounted at /content/drive/; to attempt to forcibly remount, call drive.mount(\"/content/drive/\", force_remount=True).\n"
     ]
    }
   ],
   "source": [
    "from google.colab import drive\n",
    "drive.mount('/content/drive/')"
   ]
  },
  {
   "cell_type": "code",
   "execution_count": 23,
   "id": "06d4b0a2-fa94-41ca-99e7-bf9f52695d54",
   "metadata": {
    "id": "06d4b0a2-fa94-41ca-99e7-bf9f52695d54"
   },
   "outputs": [],
   "source": [
    "import pandas as pd\n",
    "\n",
    "recipe_df = pd.read_csv('data/recipes.csv')\n",
    "ratings_df = pd.read_csv('data/ratings.csv')"
   ]
  },
  {
   "cell_type": "code",
   "execution_count": 24,
   "id": "K_UADk8EJktE",
   "metadata": {
    "colab": {
     "base_uri": "https://localhost:8080/"
    },
    "id": "K_UADk8EJktE",
    "outputId": "6f85df69-0946-4d8b-994b-c34cca7f2b56"
   },
   "outputs": [
    {
     "data": {
      "text/html": [
       "<div>\n",
       "<style scoped>\n",
       "    .dataframe tbody tr th:only-of-type {\n",
       "        vertical-align: middle;\n",
       "    }\n",
       "\n",
       "    .dataframe tbody tr th {\n",
       "        vertical-align: top;\n",
       "    }\n",
       "\n",
       "    .dataframe thead th {\n",
       "        text-align: right;\n",
       "    }\n",
       "</style>\n",
       "<table border=\"1\" class=\"dataframe\">\n",
       "  <thead>\n",
       "    <tr style=\"text-align: right;\">\n",
       "      <th></th>\n",
       "      <th>recipe_id</th>\n",
       "      <th>recipe_name</th>\n",
       "      <th>aver_rate</th>\n",
       "      <th>image_url</th>\n",
       "      <th>review_nums</th>\n",
       "      <th>ingredients</th>\n",
       "      <th>cooking_directions</th>\n",
       "      <th>nutritions</th>\n",
       "      <th>reviews</th>\n",
       "    </tr>\n",
       "  </thead>\n",
       "  <tbody>\n",
       "    <tr>\n",
       "      <th>0</th>\n",
       "      <td>222388</td>\n",
       "      <td>Homemade Bacon</td>\n",
       "      <td>5.000000</td>\n",
       "      <td>https://images.media-allrecipes.com/userphotos...</td>\n",
       "      <td>3</td>\n",
       "      <td>pork belly^smoked paprika^kosher salt^ground b...</td>\n",
       "      <td>{'directions': u'Prep\\n5 m\\nCook\\n2 h 45 m\\nRe...</td>\n",
       "      <td>{u'niacin': {u'hasCompleteData': False, u'name...</td>\n",
       "      <td>{8542392: {'rating': 5, 'followersCount': 11, ...</td>\n",
       "    </tr>\n",
       "    <tr>\n",
       "      <th>1</th>\n",
       "      <td>240488</td>\n",
       "      <td>Pork Loin, Apples, and Sauerkraut</td>\n",
       "      <td>4.764706</td>\n",
       "      <td>https://images.media-allrecipes.com/userphotos...</td>\n",
       "      <td>29</td>\n",
       "      <td>sauerkraut drained^Granny Smith apples sliced^...</td>\n",
       "      <td>{'directions': u'Prep\\n15 m\\nCook\\n2 h 30 m\\nR...</td>\n",
       "      <td>{u'niacin': {u'hasCompleteData': False, u'name...</td>\n",
       "      <td>{3574785: {'rating': 5, 'followersCount': 0, '...</td>\n",
       "    </tr>\n",
       "    <tr>\n",
       "      <th>2</th>\n",
       "      <td>218939</td>\n",
       "      <td>Foolproof Rosemary Chicken Wings</td>\n",
       "      <td>4.571429</td>\n",
       "      <td>https://images.media-allrecipes.com/userphotos...</td>\n",
       "      <td>12</td>\n",
       "      <td>chicken wings^sprigs rosemary^head garlic^oliv...</td>\n",
       "      <td>{'directions': u\"Prep\\n20 m\\nCook\\n40 m\\nReady...</td>\n",
       "      <td>{u'niacin': {u'hasCompleteData': True, u'name'...</td>\n",
       "      <td>{13774946: {'rating': 5, 'followersCount': 0, ...</td>\n",
       "    </tr>\n",
       "    <tr>\n",
       "      <th>3</th>\n",
       "      <td>87211</td>\n",
       "      <td>Chicken Pesto Paninis</td>\n",
       "      <td>4.625000</td>\n",
       "      <td>https://images.media-allrecipes.com/userphotos...</td>\n",
       "      <td>163</td>\n",
       "      <td>focaccia bread quartered^prepared basil pesto^...</td>\n",
       "      <td>{'directions': u'Prep\\n15 m\\nCook\\n5 m\\nReady ...</td>\n",
       "      <td>{u'niacin': {u'hasCompleteData': True, u'name'...</td>\n",
       "      <td>{1563136: {'rating': 5, 'followersCount': 0, '...</td>\n",
       "    </tr>\n",
       "    <tr>\n",
       "      <th>4</th>\n",
       "      <td>245714</td>\n",
       "      <td>Potato Bacon Pizza</td>\n",
       "      <td>4.500000</td>\n",
       "      <td>https://images.media-allrecipes.com/userphotos...</td>\n",
       "      <td>2</td>\n",
       "      <td>red potatoes^strips bacon^Sauce:^heavy whippin...</td>\n",
       "      <td>{'directions': u'Prep\\n20 m\\nCook\\n45 m\\nReady...</td>\n",
       "      <td>{u'niacin': {u'hasCompleteData': True, u'name'...</td>\n",
       "      <td>{2945555: {'rating': 5, 'followersCount': 6690...</td>\n",
       "    </tr>\n",
       "  </tbody>\n",
       "</table>\n",
       "</div>"
      ],
      "text/plain": [
       "   recipe_id                        recipe_name  aver_rate  \\\n",
       "0     222388                     Homemade Bacon   5.000000   \n",
       "1     240488  Pork Loin, Apples, and Sauerkraut   4.764706   \n",
       "2     218939   Foolproof Rosemary Chicken Wings   4.571429   \n",
       "3      87211              Chicken Pesto Paninis   4.625000   \n",
       "4     245714                 Potato Bacon Pizza   4.500000   \n",
       "\n",
       "                                           image_url  review_nums  \\\n",
       "0  https://images.media-allrecipes.com/userphotos...            3   \n",
       "1  https://images.media-allrecipes.com/userphotos...           29   \n",
       "2  https://images.media-allrecipes.com/userphotos...           12   \n",
       "3  https://images.media-allrecipes.com/userphotos...          163   \n",
       "4  https://images.media-allrecipes.com/userphotos...            2   \n",
       "\n",
       "                                         ingredients  \\\n",
       "0  pork belly^smoked paprika^kosher salt^ground b...   \n",
       "1  sauerkraut drained^Granny Smith apples sliced^...   \n",
       "2  chicken wings^sprigs rosemary^head garlic^oliv...   \n",
       "3  focaccia bread quartered^prepared basil pesto^...   \n",
       "4  red potatoes^strips bacon^Sauce:^heavy whippin...   \n",
       "\n",
       "                                  cooking_directions  \\\n",
       "0  {'directions': u'Prep\\n5 m\\nCook\\n2 h 45 m\\nRe...   \n",
       "1  {'directions': u'Prep\\n15 m\\nCook\\n2 h 30 m\\nR...   \n",
       "2  {'directions': u\"Prep\\n20 m\\nCook\\n40 m\\nReady...   \n",
       "3  {'directions': u'Prep\\n15 m\\nCook\\n5 m\\nReady ...   \n",
       "4  {'directions': u'Prep\\n20 m\\nCook\\n45 m\\nReady...   \n",
       "\n",
       "                                          nutritions  \\\n",
       "0  {u'niacin': {u'hasCompleteData': False, u'name...   \n",
       "1  {u'niacin': {u'hasCompleteData': False, u'name...   \n",
       "2  {u'niacin': {u'hasCompleteData': True, u'name'...   \n",
       "3  {u'niacin': {u'hasCompleteData': True, u'name'...   \n",
       "4  {u'niacin': {u'hasCompleteData': True, u'name'...   \n",
       "\n",
       "                                             reviews  \n",
       "0  {8542392: {'rating': 5, 'followersCount': 11, ...  \n",
       "1  {3574785: {'rating': 5, 'followersCount': 0, '...  \n",
       "2  {13774946: {'rating': 5, 'followersCount': 0, ...  \n",
       "3  {1563136: {'rating': 5, 'followersCount': 0, '...  \n",
       "4  {2945555: {'rating': 5, 'followersCount': 6690...  "
      ]
     },
     "execution_count": 24,
     "metadata": {},
     "output_type": "execute_result"
    }
   ],
   "source": [
    "recipe_df.head()"
   ]
  },
  {
   "cell_type": "code",
   "execution_count": 25,
   "id": "a9e12d44-edae-47e4-8327-3e55cd1d94e9",
   "metadata": {},
   "outputs": [
    {
     "data": {
      "text/html": [
       "<div>\n",
       "<style scoped>\n",
       "    .dataframe tbody tr th:only-of-type {\n",
       "        vertical-align: middle;\n",
       "    }\n",
       "\n",
       "    .dataframe tbody tr th {\n",
       "        vertical-align: top;\n",
       "    }\n",
       "\n",
       "    .dataframe thead th {\n",
       "        text-align: right;\n",
       "    }\n",
       "</style>\n",
       "<table border=\"1\" class=\"dataframe\">\n",
       "  <thead>\n",
       "    <tr style=\"text-align: right;\">\n",
       "      <th></th>\n",
       "      <th>user_id</th>\n",
       "      <th>recipe_id</th>\n",
       "      <th>rating</th>\n",
       "      <th>dateLastModified</th>\n",
       "    </tr>\n",
       "  </thead>\n",
       "  <tbody>\n",
       "    <tr>\n",
       "      <th>0</th>\n",
       "      <td>8542392</td>\n",
       "      <td>222388</td>\n",
       "      <td>5</td>\n",
       "      <td>2017-04-22T12:46:43.663\\n</td>\n",
       "    </tr>\n",
       "    <tr>\n",
       "      <th>1</th>\n",
       "      <td>11174581</td>\n",
       "      <td>222388</td>\n",
       "      <td>5</td>\n",
       "      <td>2013-06-20T15:50:25.96\\n</td>\n",
       "    </tr>\n",
       "    <tr>\n",
       "      <th>2</th>\n",
       "      <td>8262477</td>\n",
       "      <td>222388</td>\n",
       "      <td>5</td>\n",
       "      <td>2015-02-14T07:27:51.307\\n</td>\n",
       "    </tr>\n",
       "    <tr>\n",
       "      <th>3</th>\n",
       "      <td>3574785</td>\n",
       "      <td>240488</td>\n",
       "      <td>5</td>\n",
       "      <td>2017-10-07T18:20:08.973\\n</td>\n",
       "    </tr>\n",
       "    <tr>\n",
       "      <th>4</th>\n",
       "      <td>12145410</td>\n",
       "      <td>240488</td>\n",
       "      <td>2</td>\n",
       "      <td>2018-01-06T00:06:09.563\\n</td>\n",
       "    </tr>\n",
       "  </tbody>\n",
       "</table>\n",
       "</div>"
      ],
      "text/plain": [
       "    user_id  recipe_id  rating           dateLastModified\n",
       "0   8542392     222388       5  2017-04-22T12:46:43.663\\n\n",
       "1  11174581     222388       5   2013-06-20T15:50:25.96\\n\n",
       "2   8262477     222388       5  2015-02-14T07:27:51.307\\n\n",
       "3   3574785     240488       5  2017-10-07T18:20:08.973\\n\n",
       "4  12145410     240488       2  2018-01-06T00:06:09.563\\n"
      ]
     },
     "execution_count": 25,
     "metadata": {},
     "output_type": "execute_result"
    }
   ],
   "source": [
    "ratings_df.head()"
   ]
  },
  {
   "cell_type": "markdown",
   "id": "324f4a9d-1436-4259-b6b5-28a37bc4493f",
   "metadata": {
    "id": "324f4a9d-1436-4259-b6b5-28a37bc4493f"
   },
   "source": [
    "# Data Cleaning"
   ]
  },
  {
   "cell_type": "code",
   "execution_count": 26,
   "id": "3ef08913-43f0-44c4-b5ae-da9701044adc",
   "metadata": {
    "colab": {
     "base_uri": "https://localhost:8080/"
    },
    "id": "3ef08913-43f0-44c4-b5ae-da9701044adc",
    "outputId": "0437bba8-8a6d-4884-9d56-8515ac3ea7b9"
   },
   "outputs": [
    {
     "name": "stdout",
     "output_type": "stream",
     "text": [
      "49698\n",
      "recipe_id             0\n",
      "recipe_name           0\n",
      "aver_rate             0\n",
      "image_url             0\n",
      "review_nums           0\n",
      "ingredients           0\n",
      "cooking_directions    0\n",
      "nutritions            0\n",
      "reviews               0\n",
      "dtype: int64\n"
     ]
    }
   ],
   "source": [
    "print(len(recipe_df))\n",
    "print(recipe_df.isnull().sum())"
   ]
  },
  {
   "cell_type": "markdown",
   "id": "399efc00-d0a4-4cad-8b56-db39ac507f6d",
   "metadata": {
    "id": "399efc00-d0a4-4cad-8b56-db39ac507f6d"
   },
   "source": [
    "This dataset has 49698 rows, and no missing values so we do not have to deal with any null values."
   ]
  },
  {
   "cell_type": "markdown",
   "id": "ujzMBqxwJqzs",
   "metadata": {
    "id": "ujzMBqxwJqzs"
   },
   "source": [
    "Now let us get rid of some columns that we will not be using."
   ]
  },
  {
   "cell_type": "code",
   "execution_count": 27,
   "id": "50e990fe-3898-4334-bb29-6e1934e44177",
   "metadata": {
    "id": "50e990fe-3898-4334-bb29-6e1934e44177"
   },
   "outputs": [],
   "source": [
    "columns_to_remove = ['image_url','cooking_directions','nutritions','reviews']\n",
    "recipe_df = recipe_df.drop(columns=columns_to_remove)"
   ]
  },
  {
   "cell_type": "code",
   "execution_count": 28,
   "id": "mP-YQBxUKUrP",
   "metadata": {
    "colab": {
     "base_uri": "https://localhost:8080/",
     "height": 380
    },
    "id": "mP-YQBxUKUrP",
    "outputId": "1f2c24c3-bfc3-4e63-f16b-ce649e25a181"
   },
   "outputs": [
    {
     "data": {
      "text/html": [
       "<div>\n",
       "<style scoped>\n",
       "    .dataframe tbody tr th:only-of-type {\n",
       "        vertical-align: middle;\n",
       "    }\n",
       "\n",
       "    .dataframe tbody tr th {\n",
       "        vertical-align: top;\n",
       "    }\n",
       "\n",
       "    .dataframe thead th {\n",
       "        text-align: right;\n",
       "    }\n",
       "</style>\n",
       "<table border=\"1\" class=\"dataframe\">\n",
       "  <thead>\n",
       "    <tr style=\"text-align: right;\">\n",
       "      <th></th>\n",
       "      <th>recipe_id</th>\n",
       "      <th>recipe_name</th>\n",
       "      <th>aver_rate</th>\n",
       "      <th>review_nums</th>\n",
       "      <th>ingredients</th>\n",
       "    </tr>\n",
       "  </thead>\n",
       "  <tbody>\n",
       "    <tr>\n",
       "      <th>0</th>\n",
       "      <td>222388</td>\n",
       "      <td>Homemade Bacon</td>\n",
       "      <td>5.000000</td>\n",
       "      <td>3</td>\n",
       "      <td>pork belly^smoked paprika^kosher salt^ground b...</td>\n",
       "    </tr>\n",
       "    <tr>\n",
       "      <th>1</th>\n",
       "      <td>240488</td>\n",
       "      <td>Pork Loin, Apples, and Sauerkraut</td>\n",
       "      <td>4.764706</td>\n",
       "      <td>29</td>\n",
       "      <td>sauerkraut drained^Granny Smith apples sliced^...</td>\n",
       "    </tr>\n",
       "    <tr>\n",
       "      <th>2</th>\n",
       "      <td>218939</td>\n",
       "      <td>Foolproof Rosemary Chicken Wings</td>\n",
       "      <td>4.571429</td>\n",
       "      <td>12</td>\n",
       "      <td>chicken wings^sprigs rosemary^head garlic^oliv...</td>\n",
       "    </tr>\n",
       "    <tr>\n",
       "      <th>3</th>\n",
       "      <td>87211</td>\n",
       "      <td>Chicken Pesto Paninis</td>\n",
       "      <td>4.625000</td>\n",
       "      <td>163</td>\n",
       "      <td>focaccia bread quartered^prepared basil pesto^...</td>\n",
       "    </tr>\n",
       "    <tr>\n",
       "      <th>4</th>\n",
       "      <td>245714</td>\n",
       "      <td>Potato Bacon Pizza</td>\n",
       "      <td>4.500000</td>\n",
       "      <td>2</td>\n",
       "      <td>red potatoes^strips bacon^Sauce:^heavy whippin...</td>\n",
       "    </tr>\n",
       "  </tbody>\n",
       "</table>\n",
       "</div>"
      ],
      "text/plain": [
       "   recipe_id                        recipe_name  aver_rate  review_nums  \\\n",
       "0     222388                     Homemade Bacon   5.000000            3   \n",
       "1     240488  Pork Loin, Apples, and Sauerkraut   4.764706           29   \n",
       "2     218939   Foolproof Rosemary Chicken Wings   4.571429           12   \n",
       "3      87211              Chicken Pesto Paninis   4.625000          163   \n",
       "4     245714                 Potato Bacon Pizza   4.500000            2   \n",
       "\n",
       "                                         ingredients  \n",
       "0  pork belly^smoked paprika^kosher salt^ground b...  \n",
       "1  sauerkraut drained^Granny Smith apples sliced^...  \n",
       "2  chicken wings^sprigs rosemary^head garlic^oliv...  \n",
       "3  focaccia bread quartered^prepared basil pesto^...  \n",
       "4  red potatoes^strips bacon^Sauce:^heavy whippin...  "
      ]
     },
     "execution_count": 28,
     "metadata": {},
     "output_type": "execute_result"
    }
   ],
   "source": [
    "recipe_df.head()"
   ]
  },
  {
   "cell_type": "markdown",
   "id": "3WnQG1jcKbk0",
   "metadata": {
    "id": "3WnQG1jcKbk0"
   },
   "source": [
    "And likewise with the ratings dataframe!"
   ]
  },
  {
   "cell_type": "code",
   "execution_count": 29,
   "id": "8RvyKq9JKgbS",
   "metadata": {
    "id": "8RvyKq9JKgbS"
   },
   "outputs": [],
   "source": [
    "ratings_df = ratings_df.drop(columns=['dateLastModified'])"
   ]
  },
  {
   "cell_type": "code",
   "execution_count": 30,
   "id": "pMLaarRfKpvP",
   "metadata": {
    "colab": {
     "base_uri": "https://localhost:8080/",
     "height": 206
    },
    "id": "pMLaarRfKpvP",
    "outputId": "e3adbde9-cdd1-4bdc-d6fd-48730bca814f"
   },
   "outputs": [
    {
     "data": {
      "text/html": [
       "<div>\n",
       "<style scoped>\n",
       "    .dataframe tbody tr th:only-of-type {\n",
       "        vertical-align: middle;\n",
       "    }\n",
       "\n",
       "    .dataframe tbody tr th {\n",
       "        vertical-align: top;\n",
       "    }\n",
       "\n",
       "    .dataframe thead th {\n",
       "        text-align: right;\n",
       "    }\n",
       "</style>\n",
       "<table border=\"1\" class=\"dataframe\">\n",
       "  <thead>\n",
       "    <tr style=\"text-align: right;\">\n",
       "      <th></th>\n",
       "      <th>user_id</th>\n",
       "      <th>recipe_id</th>\n",
       "      <th>rating</th>\n",
       "    </tr>\n",
       "  </thead>\n",
       "  <tbody>\n",
       "    <tr>\n",
       "      <th>0</th>\n",
       "      <td>8542392</td>\n",
       "      <td>222388</td>\n",
       "      <td>5</td>\n",
       "    </tr>\n",
       "    <tr>\n",
       "      <th>1</th>\n",
       "      <td>11174581</td>\n",
       "      <td>222388</td>\n",
       "      <td>5</td>\n",
       "    </tr>\n",
       "    <tr>\n",
       "      <th>2</th>\n",
       "      <td>8262477</td>\n",
       "      <td>222388</td>\n",
       "      <td>5</td>\n",
       "    </tr>\n",
       "    <tr>\n",
       "      <th>3</th>\n",
       "      <td>3574785</td>\n",
       "      <td>240488</td>\n",
       "      <td>5</td>\n",
       "    </tr>\n",
       "    <tr>\n",
       "      <th>4</th>\n",
       "      <td>12145410</td>\n",
       "      <td>240488</td>\n",
       "      <td>2</td>\n",
       "    </tr>\n",
       "  </tbody>\n",
       "</table>\n",
       "</div>"
      ],
      "text/plain": [
       "    user_id  recipe_id  rating\n",
       "0   8542392     222388       5\n",
       "1  11174581     222388       5\n",
       "2   8262477     222388       5\n",
       "3   3574785     240488       5\n",
       "4  12145410     240488       2"
      ]
     },
     "execution_count": 30,
     "metadata": {},
     "output_type": "execute_result"
    }
   ],
   "source": [
    "ratings_df.head()"
   ]
  },
  {
   "cell_type": "markdown",
   "id": "FikpCy3IKrn2",
   "metadata": {
    "id": "FikpCy3IKrn2"
   },
   "source": [
    "Now we can combine our code to create the dataset that we desire to work with"
   ]
  },
  {
   "cell_type": "code",
   "execution_count": 31,
   "id": "QiHGR6zpKvo7",
   "metadata": {
    "colab": {
     "base_uri": "https://localhost:8080/",
     "height": 467
    },
    "id": "QiHGR6zpKvo7",
    "outputId": "c53e836a-3361-46ab-c918-8d4bc6b14650"
   },
   "outputs": [
    {
     "data": {
      "text/html": [
       "<div>\n",
       "<style scoped>\n",
       "    .dataframe tbody tr th:only-of-type {\n",
       "        vertical-align: middle;\n",
       "    }\n",
       "\n",
       "    .dataframe tbody tr th {\n",
       "        vertical-align: top;\n",
       "    }\n",
       "\n",
       "    .dataframe thead th {\n",
       "        text-align: right;\n",
       "    }\n",
       "</style>\n",
       "<table border=\"1\" class=\"dataframe\">\n",
       "  <thead>\n",
       "    <tr style=\"text-align: right;\">\n",
       "      <th></th>\n",
       "      <th>recipe_id</th>\n",
       "      <th>recipe_name</th>\n",
       "      <th>review_nums</th>\n",
       "      <th>ingredients</th>\n",
       "      <th>user_id</th>\n",
       "      <th>rating</th>\n",
       "    </tr>\n",
       "  </thead>\n",
       "  <tbody>\n",
       "    <tr>\n",
       "      <th>0</th>\n",
       "      <td>222388</td>\n",
       "      <td>Homemade Bacon</td>\n",
       "      <td>3</td>\n",
       "      <td>pork belly^smoked paprika^kosher salt^ground b...</td>\n",
       "      <td>8542392</td>\n",
       "      <td>5</td>\n",
       "    </tr>\n",
       "    <tr>\n",
       "      <th>1</th>\n",
       "      <td>222388</td>\n",
       "      <td>Homemade Bacon</td>\n",
       "      <td>3</td>\n",
       "      <td>pork belly^smoked paprika^kosher salt^ground b...</td>\n",
       "      <td>11174581</td>\n",
       "      <td>5</td>\n",
       "    </tr>\n",
       "    <tr>\n",
       "      <th>2</th>\n",
       "      <td>222388</td>\n",
       "      <td>Homemade Bacon</td>\n",
       "      <td>3</td>\n",
       "      <td>pork belly^smoked paprika^kosher salt^ground b...</td>\n",
       "      <td>8262477</td>\n",
       "      <td>5</td>\n",
       "    </tr>\n",
       "    <tr>\n",
       "      <th>3</th>\n",
       "      <td>240488</td>\n",
       "      <td>Pork Loin, Apples, and Sauerkraut</td>\n",
       "      <td>29</td>\n",
       "      <td>sauerkraut drained^Granny Smith apples sliced^...</td>\n",
       "      <td>3574785</td>\n",
       "      <td>5</td>\n",
       "    </tr>\n",
       "    <tr>\n",
       "      <th>4</th>\n",
       "      <td>240488</td>\n",
       "      <td>Pork Loin, Apples, and Sauerkraut</td>\n",
       "      <td>29</td>\n",
       "      <td>sauerkraut drained^Granny Smith apples sliced^...</td>\n",
       "      <td>12145410</td>\n",
       "      <td>2</td>\n",
       "    </tr>\n",
       "  </tbody>\n",
       "</table>\n",
       "</div>"
      ],
      "text/plain": [
       "   recipe_id                        recipe_name  review_nums  \\\n",
       "0     222388                     Homemade Bacon            3   \n",
       "1     222388                     Homemade Bacon            3   \n",
       "2     222388                     Homemade Bacon            3   \n",
       "3     240488  Pork Loin, Apples, and Sauerkraut           29   \n",
       "4     240488  Pork Loin, Apples, and Sauerkraut           29   \n",
       "\n",
       "                                         ingredients   user_id  rating  \n",
       "0  pork belly^smoked paprika^kosher salt^ground b...   8542392       5  \n",
       "1  pork belly^smoked paprika^kosher salt^ground b...  11174581       5  \n",
       "2  pork belly^smoked paprika^kosher salt^ground b...   8262477       5  \n",
       "3  sauerkraut drained^Granny Smith apples sliced^...   3574785       5  \n",
       "4  sauerkraut drained^Granny Smith apples sliced^...  12145410       2  "
      ]
     },
     "execution_count": 31,
     "metadata": {},
     "output_type": "execute_result"
    }
   ],
   "source": [
    "fulldata = pd.merge(recipe_df, ratings_df, on='recipe_id')\n",
    "# we can now drop aver_rate to declutter the dataframe!\n",
    "fulldata = fulldata.drop(columns=['aver_rate'])\n",
    "fulldata.head()\n"
   ]
  },
  {
   "cell_type": "markdown",
   "id": "YnDXUDKvLLrG",
   "metadata": {
    "id": "YnDXUDKvLLrG"
   },
   "source": [
    "Let us check the length of our new dataset!"
   ]
  },
  {
   "cell_type": "code",
   "execution_count": 32,
   "id": "RURlgtK4LPSG",
   "metadata": {
    "colab": {
     "base_uri": "https://localhost:8080/"
    },
    "id": "RURlgtK4LPSG",
    "outputId": "c1279cac-82c8-477d-8355-edde65668293"
   },
   "outputs": [
    {
     "data": {
      "text/plain": [
       "3794003"
      ]
     },
     "execution_count": 32,
     "metadata": {},
     "output_type": "execute_result"
    }
   ],
   "source": [
    "len(fulldata)"
   ]
  },
  {
   "cell_type": "markdown",
   "id": "c-iwZbz7LQhU",
   "metadata": {
    "id": "c-iwZbz7LQhU"
   },
   "source": [
    "It comes out to a whopping 3,794,003 entries!! Lets cut this down a bit to make it actually work without crashing the system."
   ]
  },
  {
   "cell_type": "code",
   "execution_count": 33,
   "id": "kZCL5ltQVmhb",
   "metadata": {
    "id": "kZCL5ltQVmhb"
   },
   "outputs": [],
   "source": [
    "fulldata_small = fulldata.head(100000)"
   ]
  },
  {
   "cell_type": "markdown",
   "id": "mIwMUJMkLcNf",
   "metadata": {
    "id": "mIwMUJMkLcNf"
   },
   "source": [
    "Let us take a look at the top 10 recipes by average rating"
   ]
  },
  {
   "cell_type": "code",
   "execution_count": 34,
   "id": "SkIL8R2_LXYS",
   "metadata": {
    "colab": {
     "base_uri": "https://localhost:8080/",
     "height": 329
    },
    "id": "SkIL8R2_LXYS",
    "outputId": "453557bd-bcce-4898-d5be-3aafc1b7e077"
   },
   "outputs": [
    {
     "data": {
      "image/png": "[encoded data removed]",
      "text/plain": [
       "<Figure size 1200x600 with 1 Axes>"
      ]
     },
     "metadata": {},
     "output_type": "display_data"
    }
   ],
   "source": [
    "from matplotlib import pyplot as plt\n",
    "top_10_recipes = recipe_df.sort_values(by=['aver_rate'], ascending=False).head(10)  # Sort and get top 10\n",
    "\n",
    "# Merge with movie titles for the bar chart\n",
    "\n",
    "# Create the bar chart\n",
    "plt.figure(figsize=(12, 6))\n",
    "plt.bar(top_10_recipes['recipe_name'], top_10_recipes['aver_rate'])\n",
    "plt.xlabel(\"Recipe Name\")\n",
    "plt.ylabel(\"Average Rating\")  # Update y-axis label\n",
    "plt.title(\"Top 10 Highest-Rated Recipes (Average Ratings)\")\n",
    "plt.xticks(rotation=45, ha='right', fontsize=8)\n",
    "plt.tight_layout()\n",
    "plt.show()"
   ]
  },
  {
   "cell_type": "markdown",
   "id": "DCvMPTP6MVRM",
   "metadata": {
    "id": "DCvMPTP6MVRM"
   },
   "source": [
    "Some of the top ones here are Homemade Bacon, Groovy \"Who Brought That\" Pasta, and Aunt Karen's Brussels Sprouts Salad among others. This gives some small insight into what to expect as the best recipes in our dataset."
   ]
  },
  {
   "cell_type": "markdown",
   "id": "Kigia1MxOfY2",
   "metadata": {
    "id": "Kigia1MxOfY2"
   },
   "source": [
    "We can also look at how many of eahc rating that we have in our dataset with a simple visualization."
   ]
  },
  {
   "cell_type": "code",
   "execution_count": 35,
   "id": "81m7gv79OktE",
   "metadata": {
    "colab": {
     "base_uri": "https://localhost:8080/",
     "height": 514
    },
    "id": "81m7gv79OktE",
    "outputId": "23ae8141-f179-4c01-ea21-3ad43e03063e"
   },
   "outputs": [
    {
     "data": {
      "image/png": "[encoded data removed]",
      "text/plain": [
       "<Figure size 800x600 with 1 Axes>"
      ]
     },
     "metadata": {},
     "output_type": "display_data"
    }
   ],
   "source": [
    "star_counts = ratings_df['rating'].value_counts().sort_index()\n",
    "\n",
    "# Create the bar chart\n",
    "plt.figure(figsize=(8, 6))  # Adjust figure size if needed\n",
    "plt.bar(star_counts.index, star_counts.values)\n",
    "plt.xlabel(\"Star Rating\")\n",
    "plt.ylabel(\"Count\")\n",
    "plt.title(\"Distribution of Star Ratings\")\n",
    "plt.xticks(star_counts.index)  # Set x-axis ticks to the star rating values\n",
    "plt.show()"
   ]
  },
  {
   "cell_type": "markdown",
   "id": "ugDdp9zSO7iG",
   "metadata": {
    "id": "ugDdp9zSO7iG"
   },
   "source": [
    "Wow, we have some extremely generous reviewers. This makes some sense as people who are moved enough to review are generally either overly positive or negative. It is surprising that we do not see more 1 or 2 star reviews however."
   ]
  },
  {
   "cell_type": "markdown",
   "id": "ymkoMe9KM-55",
   "metadata": {
    "id": "ymkoMe9KM-55"
   },
   "source": [
    "Now, like in the homework, we are going to make a new string variable that incorporates the ingredients of the dish with the name."
   ]
  },
  {
   "cell_type": "code",
   "execution_count": 36,
   "id": "_KHxgvseMn-m",
   "metadata": {
    "colab": {
     "base_uri": "https://localhost:8080/",
     "height": 819
    },
    "id": "_KHxgvseMn-m",
    "outputId": "928f4a91-5201-430f-db1d-0cf83ba16a9c"
   },
   "outputs": [
    {
     "name": "stderr",
     "output_type": "stream",
     "text": [
      "/var/folders/5q/9dqld61x0kz9vpw983fx2wlm0000gn/T/ipykernel_36773/2366389844.py:1: SettingWithCopyWarning: \n",
      "A value is trying to be set on a copy of a slice from a DataFrame.\n",
      "Try using .loc[row_indexer,col_indexer] = value instead\n",
      "\n",
      "See the caveats in the documentation: https://pandas.pydata.org/pandas-docs/stable/user_guide/indexing.html#returning-a-view-versus-a-copy\n",
      "  fulldata_small['string'] = fulldata_small['ingredients'].str.replace('^', ' ') + ' ' + fulldata_small['recipe_name']\n"
     ]
    },
    {
     "data": {
      "text/html": [
       "<div>\n",
       "<style scoped>\n",
       "    .dataframe tbody tr th:only-of-type {\n",
       "        vertical-align: middle;\n",
       "    }\n",
       "\n",
       "    .dataframe tbody tr th {\n",
       "        vertical-align: top;\n",
       "    }\n",
       "\n",
       "    .dataframe thead th {\n",
       "        text-align: right;\n",
       "    }\n",
       "</style>\n",
       "<table border=\"1\" class=\"dataframe\">\n",
       "  <thead>\n",
       "    <tr style=\"text-align: right;\">\n",
       "      <th></th>\n",
       "      <th>recipe_id</th>\n",
       "      <th>recipe_name</th>\n",
       "      <th>review_nums</th>\n",
       "      <th>ingredients</th>\n",
       "      <th>user_id</th>\n",
       "      <th>rating</th>\n",
       "      <th>string</th>\n",
       "    </tr>\n",
       "  </thead>\n",
       "  <tbody>\n",
       "    <tr>\n",
       "      <th>0</th>\n",
       "      <td>222388</td>\n",
       "      <td>Homemade Bacon</td>\n",
       "      <td>3</td>\n",
       "      <td>pork belly^smoked paprika^kosher salt^ground b...</td>\n",
       "      <td>8542392</td>\n",
       "      <td>5</td>\n",
       "      <td>pork belly smoked paprika kosher salt ground b...</td>\n",
       "    </tr>\n",
       "    <tr>\n",
       "      <th>1</th>\n",
       "      <td>222388</td>\n",
       "      <td>Homemade Bacon</td>\n",
       "      <td>3</td>\n",
       "      <td>pork belly^smoked paprika^kosher salt^ground b...</td>\n",
       "      <td>11174581</td>\n",
       "      <td>5</td>\n",
       "      <td>pork belly smoked paprika kosher salt ground b...</td>\n",
       "    </tr>\n",
       "    <tr>\n",
       "      <th>2</th>\n",
       "      <td>222388</td>\n",
       "      <td>Homemade Bacon</td>\n",
       "      <td>3</td>\n",
       "      <td>pork belly^smoked paprika^kosher salt^ground b...</td>\n",
       "      <td>8262477</td>\n",
       "      <td>5</td>\n",
       "      <td>pork belly smoked paprika kosher salt ground b...</td>\n",
       "    </tr>\n",
       "    <tr>\n",
       "      <th>3</th>\n",
       "      <td>240488</td>\n",
       "      <td>Pork Loin, Apples, and Sauerkraut</td>\n",
       "      <td>29</td>\n",
       "      <td>sauerkraut drained^Granny Smith apples sliced^...</td>\n",
       "      <td>3574785</td>\n",
       "      <td>5</td>\n",
       "      <td>sauerkraut drained Granny Smith apples sliced ...</td>\n",
       "    </tr>\n",
       "    <tr>\n",
       "      <th>4</th>\n",
       "      <td>240488</td>\n",
       "      <td>Pork Loin, Apples, and Sauerkraut</td>\n",
       "      <td>29</td>\n",
       "      <td>sauerkraut drained^Granny Smith apples sliced^...</td>\n",
       "      <td>12145410</td>\n",
       "      <td>2</td>\n",
       "      <td>sauerkraut drained Granny Smith apples sliced ...</td>\n",
       "    </tr>\n",
       "  </tbody>\n",
       "</table>\n",
       "</div>"
      ],
      "text/plain": [
       "   recipe_id                        recipe_name  review_nums  \\\n",
       "0     222388                     Homemade Bacon            3   \n",
       "1     222388                     Homemade Bacon            3   \n",
       "2     222388                     Homemade Bacon            3   \n",
       "3     240488  Pork Loin, Apples, and Sauerkraut           29   \n",
       "4     240488  Pork Loin, Apples, and Sauerkraut           29   \n",
       "\n",
       "                                         ingredients   user_id  rating  \\\n",
       "0  pork belly^smoked paprika^kosher salt^ground b...   8542392       5   \n",
       "1  pork belly^smoked paprika^kosher salt^ground b...  11174581       5   \n",
       "2  pork belly^smoked paprika^kosher salt^ground b...   8262477       5   \n",
       "3  sauerkraut drained^Granny Smith apples sliced^...   3574785       5   \n",
       "4  sauerkraut drained^Granny Smith apples sliced^...  12145410       2   \n",
       "\n",
       "                                              string  \n",
       "0  pork belly smoked paprika kosher salt ground b...  \n",
       "1  pork belly smoked paprika kosher salt ground b...  \n",
       "2  pork belly smoked paprika kosher salt ground b...  \n",
       "3  sauerkraut drained Granny Smith apples sliced ...  \n",
       "4  sauerkraut drained Granny Smith apples sliced ...  "
      ]
     },
     "execution_count": 36,
     "metadata": {},
     "output_type": "execute_result"
    }
   ],
   "source": [
    "fulldata_small['string'] = fulldata_small['ingredients'].str.replace('^', ' ') + ' ' + fulldata_small['recipe_name']\n",
    "fulldata_small.head()"
   ]
  },
  {
   "cell_type": "markdown",
   "id": "t99N3k5-NNiU",
   "metadata": {
    "id": "t99N3k5-NNiU"
   },
   "source": [
    "We are going to then use this to create a tf_idf matrix with TfidfVectorizer and tfv.fit"
   ]
  },
  {
   "cell_type": "code",
   "execution_count": 37,
   "id": "d6p9-bteNciY",
   "metadata": {
    "id": "d6p9-bteNciY"
   },
   "outputs": [],
   "source": [
    "from sklearn.feature_extraction.text import TfidfVectorizer\n",
    "\n",
    "tfv = TfidfVectorizer(min_df=3, max_features=None, strip_accents=\"unicode\", analyzer=\"word\",\n",
    "                      token_pattern=r\"\\w{1,}\", ngram_range=(1, 3), stop_words=\"english\")"
   ]
  },
  {
   "cell_type": "code",
   "execution_count": 38,
   "id": "KO1edYwjNeqR",
   "metadata": {
    "id": "KO1edYwjNeqR"
   },
   "outputs": [],
   "source": [
    "rec_data = fulldata_small.copy()\n",
    "rec_data\n",
    "rec_data.drop_duplicates(subset = \"recipe_name\", keep = \"first\", inplace = True)"
   ]
  },
  {
   "cell_type": "code",
   "execution_count": 39,
   "id": "O8MTCPXSNjV5",
   "metadata": {
    "id": "O8MTCPXSNjV5"
   },
   "outputs": [],
   "source": [
    "rec_data.reset_index(drop = True, inplace = True)"
   ]
  },
  {
   "cell_type": "code",
   "execution_count": 40,
   "id": "aIlOFzsyNmfY",
   "metadata": {
    "id": "aIlOFzsyNmfY"
   },
   "outputs": [],
   "source": [
    "ingredients = rec_data[\"string\"].str.split(\" \").astype(str)\n",
    "tfv_matrix = tfv.fit_transform(ingredients)"
   ]
  },
  {
   "cell_type": "markdown",
   "id": "x1xU2O5dNxr1",
   "metadata": {
    "id": "x1xU2O5dNxr1"
   },
   "source": [
    "Now that we have that down we can move forward with using a sigmoid kernel from scikit-learn to calculate the pairwise similarities between the items in our previously created tf_idf matrix"
   ]
  },
  {
   "cell_type": "code",
   "execution_count": 41,
   "id": "IRPb5-l7N-KD",
   "metadata": {
    "id": "IRPb5-l7N-KD"
   },
   "outputs": [],
   "source": [
    "from sklearn.metrics.pairwise import sigmoid_kernel\n",
    "\n",
    "sig = sigmoid_kernel(tfv_matrix, tfv_matrix)      # Computing sigmoid kernel\n",
    "\n",
    "rec_indices = pd.Series(rec_data.index, index = rec_data[\"recipe_name\"]).drop_duplicates()"
   ]
  },
  {
   "cell_type": "code",
   "execution_count": 62,
   "id": "aW11IdEOWota",
   "metadata": {
    "id": "aW11IdEOWota"
   },
   "outputs": [],
   "source": [
    "# Recommendation Function\n",
    "def give_recommendation(recipe, sig = sig):\n",
    "\n",
    "    idx = rec_indices[recipe] # Getting index corresponding to original_title\n",
    "\n",
    "    sig_score = list(enumerate(sig[idx]))  # Getting pairwsie similarity scores\n",
    "    sig_score = sorted(sig_score, key=lambda x: x[1], reverse=True)\n",
    "    sig_score = sig_score[1:11]\n",
    "    recipe_indices = [i[0] for i in sig_score]\n",
    "\n",
    "    # Top 10 most similar recipes\n",
    "    rec_dic = {\"No\" : range(1,11),\n",
    "               \"Recipe Name\" : rec_data[\"recipe_name\"].iloc[recipe_indices].values,\n",
    "               \"Rating\" : rec_data[\"rating\"].iloc[recipe_indices].values}\n",
    "    dataframe = pd.DataFrame(data = rec_dic)\n",
    "    dataframe.set_index(\"No\", inplace = True)\n",
    "\n",
    "    print(f\"Recommendations for {recipe} viewers :\\n\")\n",
    "\n",
    "    return dataframe.style.set_properties(**{\"background-color\": \"white\",\"color\":\"black\",\"border\": \"1.5px  solid black\"})"
   ]
  },
  {
   "cell_type": "code",
   "execution_count": 64,
   "id": "7n3GrBHwW8Tr",
   "metadata": {
    "colab": {
     "base_uri": "https://localhost:8080/",
     "height": 446
    },
    "id": "7n3GrBHwW8Tr",
    "outputId": "fe0fe84e-fdec-46e6-97bd-3614452d164c"
   },
   "outputs": [
    {
     "name": "stdout",
     "output_type": "stream",
     "text": [
      "Recommendations for Homemade Bacon viewers :\n",
      "\n"
     ]
    },
    {
     "data": {
      "text/html": [
       "<style type=\"text/css\">\n",
       "#T_cbb8b_row0_col0, #T_cbb8b_row0_col1, #T_cbb8b_row1_col0, #T_cbb8b_row1_col1, #T_cbb8b_row2_col0, #T_cbb8b_row2_col1, #T_cbb8b_row3_col0, #T_cbb8b_row3_col1, #T_cbb8b_row4_col0, #T_cbb8b_row4_col1, #T_cbb8b_row5_col0, #T_cbb8b_row5_col1, #T_cbb8b_row6_col0, #T_cbb8b_row6_col1, #T_cbb8b_row7_col0, #T_cbb8b_row7_col1, #T_cbb8b_row8_col0, #T_cbb8b_row8_col1, #T_cbb8b_row9_col0, #T_cbb8b_row9_col1 {\n",
       "  background-color: white;\n",
       "  color: black;\n",
       "  border: 1.5px  solid black;\n",
       "}\n",
       "</style>\n",
       "<table id=\"T_cbb8b\">\n",
       "  <thead>\n",
       "    <tr>\n",
       "      <th class=\"blank level0\" >&nbsp;</th>\n",
       "      <th id=\"T_cbb8b_level0_col0\" class=\"col_heading level0 col0\" >Recipe Name</th>\n",
       "      <th id=\"T_cbb8b_level0_col1\" class=\"col_heading level0 col1\" >Rating</th>\n",
       "    </tr>\n",
       "    <tr>\n",
       "      <th class=\"index_name level0\" >No</th>\n",
       "      <th class=\"blank col0\" >&nbsp;</th>\n",
       "      <th class=\"blank col1\" >&nbsp;</th>\n",
       "    </tr>\n",
       "  </thead>\n",
       "  <tbody>\n",
       "    <tr>\n",
       "      <th id=\"T_cbb8b_level0_row0\" class=\"row_heading level0 row0\" >1</th>\n",
       "      <td id=\"T_cbb8b_row0_col0\" class=\"data row0 col0\" >Barbecued Pulled Pork with Sweet & Sour Slaw</td>\n",
       "      <td id=\"T_cbb8b_row0_col1\" class=\"data row0 col1\" >3</td>\n",
       "    </tr>\n",
       "    <tr>\n",
       "      <th id=\"T_cbb8b_level0_row1\" class=\"row_heading level0 row1\" >2</th>\n",
       "      <td id=\"T_cbb8b_row1_col0\" class=\"data row1 col0\" >Spicy Pulled Pork Pushover</td>\n",
       "      <td id=\"T_cbb8b_row1_col1\" class=\"data row1 col1\" >5</td>\n",
       "    </tr>\n",
       "    <tr>\n",
       "      <th id=\"T_cbb8b_level0_row2\" class=\"row_heading level0 row2\" >3</th>\n",
       "      <td id=\"T_cbb8b_row2_col0\" class=\"data row2 col0\" >Sweet and Spicy Ginger Beer Pulled Pork</td>\n",
       "      <td id=\"T_cbb8b_row2_col1\" class=\"data row2 col1\" >5</td>\n",
       "    </tr>\n",
       "    <tr>\n",
       "      <th id=\"T_cbb8b_level0_row3\" class=\"row_heading level0 row3\" >4</th>\n",
       "      <td id=\"T_cbb8b_row3_col0\" class=\"data row3 col0\" >Smoked Paprika Goulash for the Slow Cooker</td>\n",
       "      <td id=\"T_cbb8b_row3_col1\" class=\"data row3 col1\" >5</td>\n",
       "    </tr>\n",
       "    <tr>\n",
       "      <th id=\"T_cbb8b_level0_row4\" class=\"row_heading level0 row4\" >5</th>\n",
       "      <td id=\"T_cbb8b_row4_col0\" class=\"data row4 col0\" >Eggs in a Basket</td>\n",
       "      <td id=\"T_cbb8b_row4_col1\" class=\"data row4 col1\" >4</td>\n",
       "    </tr>\n",
       "    <tr>\n",
       "      <th id=\"T_cbb8b_level0_row5\" class=\"row_heading level0 row5\" >6</th>\n",
       "      <td id=\"T_cbb8b_row5_col0\" class=\"data row5 col0\" >How to Cook a Turkey</td>\n",
       "      <td id=\"T_cbb8b_row5_col1\" class=\"data row5 col1\" >5</td>\n",
       "    </tr>\n",
       "    <tr>\n",
       "      <th id=\"T_cbb8b_level0_row6\" class=\"row_heading level0 row6\" >7</th>\n",
       "      <td id=\"T_cbb8b_row6_col0\" class=\"data row6 col0\" >Slow Cooker Texas Smoked Beef Brisket</td>\n",
       "      <td id=\"T_cbb8b_row6_col1\" class=\"data row6 col1\" >5</td>\n",
       "    </tr>\n",
       "    <tr>\n",
       "      <th id=\"T_cbb8b_level0_row7\" class=\"row_heading level0 row7\" >8</th>\n",
       "      <td id=\"T_cbb8b_row7_col0\" class=\"data row7 col0\" >Tandoori Chicken II</td>\n",
       "      <td id=\"T_cbb8b_row7_col1\" class=\"data row7 col1\" >4</td>\n",
       "    </tr>\n",
       "    <tr>\n",
       "      <th id=\"T_cbb8b_level0_row8\" class=\"row_heading level0 row8\" >9</th>\n",
       "      <td id=\"T_cbb8b_row8_col0\" class=\"data row8 col0\" >Juicy Deer and Bacon Burgers</td>\n",
       "      <td id=\"T_cbb8b_row8_col1\" class=\"data row8 col1\" >5</td>\n",
       "    </tr>\n",
       "    <tr>\n",
       "      <th id=\"T_cbb8b_level0_row9\" class=\"row_heading level0 row9\" >10</th>\n",
       "      <td id=\"T_cbb8b_row9_col0\" class=\"data row9 col0\" >Homemade Beef Tamales</td>\n",
       "      <td id=\"T_cbb8b_row9_col1\" class=\"data row9 col1\" >4</td>\n",
       "    </tr>\n",
       "  </tbody>\n",
       "</table>\n"
      ],
      "text/plain": [
       "<pandas.io.formats.style.Styler at 0x2d8660d30>"
      ]
     },
     "execution_count": 64,
     "metadata": {},
     "output_type": "execute_result"
    }
   ],
   "source": [
    "give_recommendation(\"Homemade Bacon\")"
   ]
  },
  {
   "cell_type": "markdown",
   "id": "cfe47922-797e-4150-8042-9c8fe620a905",
   "metadata": {},
   "source": [
    "Let's try to give our most active user some recommendations."
   ]
  },
  {
   "cell_type": "code",
   "execution_count": 69,
   "id": "ef911ecf-cdcd-42c2-b605-190e7a507e6b",
   "metadata": {},
   "outputs": [
    {
     "name": "stdout",
     "output_type": "stream",
     "text": [
      "User with most ratings: 268713 (70 ratings)\n"
     ]
    },
    {
     "data": {
      "text/html": [
       "<div>\n",
       "<style scoped>\n",
       "    .dataframe tbody tr th:only-of-type {\n",
       "        vertical-align: middle;\n",
       "    }\n",
       "\n",
       "    .dataframe tbody tr th {\n",
       "        vertical-align: top;\n",
       "    }\n",
       "\n",
       "    .dataframe thead th {\n",
       "        text-align: right;\n",
       "    }\n",
       "</style>\n",
       "<table border=\"1\" class=\"dataframe\">\n",
       "  <thead>\n",
       "    <tr style=\"text-align: right;\">\n",
       "      <th></th>\n",
       "      <th>recipe_id</th>\n",
       "      <th>recipe_name</th>\n",
       "      <th>review_nums</th>\n",
       "      <th>ingredients</th>\n",
       "      <th>user_id</th>\n",
       "      <th>rating</th>\n",
       "      <th>string</th>\n",
       "    </tr>\n",
       "  </thead>\n",
       "  <tbody>\n",
       "    <tr>\n",
       "      <th>0</th>\n",
       "      <td>222388</td>\n",
       "      <td>Homemade Bacon</td>\n",
       "      <td>3</td>\n",
       "      <td>pork belly^smoked paprika^kosher salt^ground b...</td>\n",
       "      <td>8542392</td>\n",
       "      <td>5</td>\n",
       "      <td>pork belly smoked paprika kosher salt ground b...</td>\n",
       "    </tr>\n",
       "    <tr>\n",
       "      <th>1</th>\n",
       "      <td>222388</td>\n",
       "      <td>Homemade Bacon</td>\n",
       "      <td>3</td>\n",
       "      <td>pork belly^smoked paprika^kosher salt^ground b...</td>\n",
       "      <td>11174581</td>\n",
       "      <td>5</td>\n",
       "      <td>pork belly smoked paprika kosher salt ground b...</td>\n",
       "    </tr>\n",
       "    <tr>\n",
       "      <th>2</th>\n",
       "      <td>222388</td>\n",
       "      <td>Homemade Bacon</td>\n",
       "      <td>3</td>\n",
       "      <td>pork belly^smoked paprika^kosher salt^ground b...</td>\n",
       "      <td>8262477</td>\n",
       "      <td>5</td>\n",
       "      <td>pork belly smoked paprika kosher salt ground b...</td>\n",
       "    </tr>\n",
       "    <tr>\n",
       "      <th>3</th>\n",
       "      <td>240488</td>\n",
       "      <td>Pork Loin, Apples, and Sauerkraut</td>\n",
       "      <td>29</td>\n",
       "      <td>sauerkraut drained^Granny Smith apples sliced^...</td>\n",
       "      <td>3574785</td>\n",
       "      <td>5</td>\n",
       "      <td>sauerkraut drained Granny Smith apples sliced ...</td>\n",
       "    </tr>\n",
       "    <tr>\n",
       "      <th>4</th>\n",
       "      <td>240488</td>\n",
       "      <td>Pork Loin, Apples, and Sauerkraut</td>\n",
       "      <td>29</td>\n",
       "      <td>sauerkraut drained^Granny Smith apples sliced^...</td>\n",
       "      <td>12145410</td>\n",
       "      <td>2</td>\n",
       "      <td>sauerkraut drained Granny Smith apples sliced ...</td>\n",
       "    </tr>\n",
       "    <tr>\n",
       "      <th>...</th>\n",
       "      <td>...</td>\n",
       "      <td>...</td>\n",
       "      <td>...</td>\n",
       "      <td>...</td>\n",
       "      <td>...</td>\n",
       "      <td>...</td>\n",
       "      <td>...</td>\n",
       "    </tr>\n",
       "    <tr>\n",
       "      <th>99995</th>\n",
       "      <td>56927</td>\n",
       "      <td>Delicious Ham and Potato Soup</td>\n",
       "      <td>9829</td>\n",
       "      <td>peeled and diced potatoes^diced celery^finely ...</td>\n",
       "      <td>6029906</td>\n",
       "      <td>4</td>\n",
       "      <td>peeled and diced potatoes diced celery finely ...</td>\n",
       "    </tr>\n",
       "    <tr>\n",
       "      <th>99996</th>\n",
       "      <td>56927</td>\n",
       "      <td>Delicious Ham and Potato Soup</td>\n",
       "      <td>9829</td>\n",
       "      <td>peeled and diced potatoes^diced celery^finely ...</td>\n",
       "      <td>1458771</td>\n",
       "      <td>4</td>\n",
       "      <td>peeled and diced potatoes diced celery finely ...</td>\n",
       "    </tr>\n",
       "    <tr>\n",
       "      <th>99997</th>\n",
       "      <td>56927</td>\n",
       "      <td>Delicious Ham and Potato Soup</td>\n",
       "      <td>9829</td>\n",
       "      <td>peeled and diced potatoes^diced celery^finely ...</td>\n",
       "      <td>4260436</td>\n",
       "      <td>5</td>\n",
       "      <td>peeled and diced potatoes diced celery finely ...</td>\n",
       "    </tr>\n",
       "    <tr>\n",
       "      <th>99998</th>\n",
       "      <td>56927</td>\n",
       "      <td>Delicious Ham and Potato Soup</td>\n",
       "      <td>9829</td>\n",
       "      <td>peeled and diced potatoes^diced celery^finely ...</td>\n",
       "      <td>4814265</td>\n",
       "      <td>3</td>\n",
       "      <td>peeled and diced potatoes diced celery finely ...</td>\n",
       "    </tr>\n",
       "    <tr>\n",
       "      <th>99999</th>\n",
       "      <td>56927</td>\n",
       "      <td>Delicious Ham and Potato Soup</td>\n",
       "      <td>9829</td>\n",
       "      <td>peeled and diced potatoes^diced celery^finely ...</td>\n",
       "      <td>13615704</td>\n",
       "      <td>5</td>\n",
       "      <td>peeled and diced potatoes diced celery finely ...</td>\n",
       "    </tr>\n",
       "  </tbody>\n",
       "</table>\n",
       "<p>100000 rows × 7 columns</p>\n",
       "</div>"
      ],
      "text/plain": [
       "       recipe_id                        recipe_name  review_nums  \\\n",
       "0         222388                     Homemade Bacon            3   \n",
       "1         222388                     Homemade Bacon            3   \n",
       "2         222388                     Homemade Bacon            3   \n",
       "3         240488  Pork Loin, Apples, and Sauerkraut           29   \n",
       "4         240488  Pork Loin, Apples, and Sauerkraut           29   \n",
       "...          ...                                ...          ...   \n",
       "99995      56927      Delicious Ham and Potato Soup         9829   \n",
       "99996      56927      Delicious Ham and Potato Soup         9829   \n",
       "99997      56927      Delicious Ham and Potato Soup         9829   \n",
       "99998      56927      Delicious Ham and Potato Soup         9829   \n",
       "99999      56927      Delicious Ham and Potato Soup         9829   \n",
       "\n",
       "                                             ingredients   user_id  rating  \\\n",
       "0      pork belly^smoked paprika^kosher salt^ground b...   8542392       5   \n",
       "1      pork belly^smoked paprika^kosher salt^ground b...  11174581       5   \n",
       "2      pork belly^smoked paprika^kosher salt^ground b...   8262477       5   \n",
       "3      sauerkraut drained^Granny Smith apples sliced^...   3574785       5   \n",
       "4      sauerkraut drained^Granny Smith apples sliced^...  12145410       2   \n",
       "...                                                  ...       ...     ...   \n",
       "99995  peeled and diced potatoes^diced celery^finely ...   6029906       4   \n",
       "99996  peeled and diced potatoes^diced celery^finely ...   1458771       4   \n",
       "99997  peeled and diced potatoes^diced celery^finely ...   4260436       5   \n",
       "99998  peeled and diced potatoes^diced celery^finely ...   4814265       3   \n",
       "99999  peeled and diced potatoes^diced celery^finely ...  13615704       5   \n",
       "\n",
       "                                                  string  \n",
       "0      pork belly smoked paprika kosher salt ground b...  \n",
       "1      pork belly smoked paprika kosher salt ground b...  \n",
       "2      pork belly smoked paprika kosher salt ground b...  \n",
       "3      sauerkraut drained Granny Smith apples sliced ...  \n",
       "4      sauerkraut drained Granny Smith apples sliced ...  \n",
       "...                                                  ...  \n",
       "99995  peeled and diced potatoes diced celery finely ...  \n",
       "99996  peeled and diced potatoes diced celery finely ...  \n",
       "99997  peeled and diced potatoes diced celery finely ...  \n",
       "99998  peeled and diced potatoes diced celery finely ...  \n",
       "99999  peeled and diced potatoes diced celery finely ...  \n",
       "\n",
       "[100000 rows x 7 columns]"
      ]
     },
     "execution_count": 69,
     "metadata": {},
     "output_type": "execute_result"
    }
   ],
   "source": [
    "user_rating_counts = fulldata_small['user_id'].value_counts()\n",
    "\n",
    "# Get the user ID with the most ratings\n",
    "top_user_id = user_rating_counts.idxmax()\n",
    "top_user_rating_count = user_rating_counts.max()\n",
    "\n",
    "print(f\"User with most ratings: {top_user_id} ({top_user_rating_count} ratings)\")"
   ]
  },
  {
   "cell_type": "markdown",
   "id": "059a91ad-a255-4ef1-b2c3-a8ca2e8dfab8",
   "metadata": {},
   "source": [
    "Here are there favorite recipes."
   ]
  },
  {
   "cell_type": "code",
   "execution_count": 75,
   "id": "31b5a4d5-51df-49cc-b996-8df77d24c622",
   "metadata": {},
   "outputs": [
    {
     "data": {
      "text/html": [
       "<div>\n",
       "<style scoped>\n",
       "    .dataframe tbody tr th:only-of-type {\n",
       "        vertical-align: middle;\n",
       "    }\n",
       "\n",
       "    .dataframe tbody tr th {\n",
       "        vertical-align: top;\n",
       "    }\n",
       "\n",
       "    .dataframe thead th {\n",
       "        text-align: right;\n",
       "    }\n",
       "</style>\n",
       "<table border=\"1\" class=\"dataframe\">\n",
       "  <thead>\n",
       "    <tr style=\"text-align: right;\">\n",
       "      <th></th>\n",
       "      <th>recipe_id</th>\n",
       "      <th>recipe_name</th>\n",
       "      <th>review_nums</th>\n",
       "      <th>ingredients</th>\n",
       "      <th>user_id</th>\n",
       "      <th>rating</th>\n",
       "      <th>string</th>\n",
       "    </tr>\n",
       "  </thead>\n",
       "  <tbody>\n",
       "    <tr>\n",
       "      <th>2631</th>\n",
       "      <td>8778</td>\n",
       "      <td>Cajun Chicken Pasta</td>\n",
       "      <td>1545</td>\n",
       "      <td>linguine pasta^skinless boneless chicken breas...</td>\n",
       "      <td>268713</td>\n",
       "      <td>5</td>\n",
       "      <td>linguine pasta skinless boneless chicken breas...</td>\n",
       "    </tr>\n",
       "    <tr>\n",
       "      <th>69404</th>\n",
       "      <td>26670</td>\n",
       "      <td>Taylor's Piroshki</td>\n",
       "      <td>122</td>\n",
       "      <td>ground beef^onion^salt^ground black pepper to ...</td>\n",
       "      <td>268713</td>\n",
       "      <td>5</td>\n",
       "      <td>ground beef onion salt ground black pepper to ...</td>\n",
       "    </tr>\n",
       "    <tr>\n",
       "      <th>73867</th>\n",
       "      <td>74157</td>\n",
       "      <td>Linda's Fake and Bake Chicken</td>\n",
       "      <td>63</td>\n",
       "      <td>cornflake crumbs^seasoned dry bread crumbs^sal...</td>\n",
       "      <td>268713</td>\n",
       "      <td>5</td>\n",
       "      <td>cornflake crumbs seasoned dry bread crumbs sal...</td>\n",
       "    </tr>\n",
       "    <tr>\n",
       "      <th>50337</th>\n",
       "      <td>46530</td>\n",
       "      <td>Guinness® Corned Beef</td>\n",
       "      <td>893</td>\n",
       "      <td>corned beef brisket^brown sugar^fluid ounce) can</td>\n",
       "      <td>268713</td>\n",
       "      <td>5</td>\n",
       "      <td>corned beef brisket brown sugar fluid ounce) c...</td>\n",
       "    </tr>\n",
       "    <tr>\n",
       "      <th>81816</th>\n",
       "      <td>84259</td>\n",
       "      <td>Italian Subs - Restaurant Style</td>\n",
       "      <td>109</td>\n",
       "      <td>head red leaf lettuce rinsed and torn^medium f...</td>\n",
       "      <td>268713</td>\n",
       "      <td>5</td>\n",
       "      <td>head red leaf lettuce rinsed and torn medium f...</td>\n",
       "    </tr>\n",
       "    <tr>\n",
       "      <th>29441</th>\n",
       "      <td>78299</td>\n",
       "      <td>Boilermaker Tailgate Chili</td>\n",
       "      <td>4656</td>\n",
       "      <td>ground beef chuck^bulk Italian sausage^chili b...</td>\n",
       "      <td>268713</td>\n",
       "      <td>5</td>\n",
       "      <td>ground beef chuck bulk Italian sausage chili b...</td>\n",
       "    </tr>\n",
       "    <tr>\n",
       "      <th>70207</th>\n",
       "      <td>74796</td>\n",
       "      <td>Beer Roasted Lime Chicken</td>\n",
       "      <td>104</td>\n",
       "      <td>chicken^salt^ground black pepper^lime halved^f...</td>\n",
       "      <td>268713</td>\n",
       "      <td>5</td>\n",
       "      <td>chicken salt ground black pepper lime halved f...</td>\n",
       "    </tr>\n",
       "    <tr>\n",
       "      <th>20769</th>\n",
       "      <td>77408</td>\n",
       "      <td>Chinese Spareribs</td>\n",
       "      <td>81</td>\n",
       "      <td>hoisin sauce^ketchup^honey^soy sauce^sake^rice...</td>\n",
       "      <td>268713</td>\n",
       "      <td>5</td>\n",
       "      <td>hoisin sauce ketchup honey soy sauce sake rice...</td>\n",
       "    </tr>\n",
       "    <tr>\n",
       "      <th>19971</th>\n",
       "      <td>17605</td>\n",
       "      <td>Party Kielbasa</td>\n",
       "      <td>94</td>\n",
       "      <td>kielbasa sausage^ketchup^grape jelly</td>\n",
       "      <td>268713</td>\n",
       "      <td>5</td>\n",
       "      <td>kielbasa sausage ketchup grape jelly Party Kie...</td>\n",
       "    </tr>\n",
       "    <tr>\n",
       "      <th>19315</th>\n",
       "      <td>14445</td>\n",
       "      <td>Bermuda Spinach Salad</td>\n",
       "      <td>264</td>\n",
       "      <td>eggs^bacon^spinach rinsed and chopped^croutons...</td>\n",
       "      <td>268713</td>\n",
       "      <td>5</td>\n",
       "      <td>eggs bacon spinach rinsed and chopped croutons...</td>\n",
       "    </tr>\n",
       "    <tr>\n",
       "      <th>17752</th>\n",
       "      <td>45957</td>\n",
       "      <td>Chicken Makhani (Indian Butter Chicken)</td>\n",
       "      <td>879</td>\n",
       "      <td>peanut oil^shallot finely chopped^white onion^...</td>\n",
       "      <td>268713</td>\n",
       "      <td>5</td>\n",
       "      <td>peanut oil shallot finely chopped white onion ...</td>\n",
       "    </tr>\n",
       "    <tr>\n",
       "      <th>82417</th>\n",
       "      <td>24806</td>\n",
       "      <td>Smoked Turkey Tortilla Wraps</td>\n",
       "      <td>42</td>\n",
       "      <td>wheat flour tortillas^smoked turkey^avocado^so...</td>\n",
       "      <td>268713</td>\n",
       "      <td>5</td>\n",
       "      <td>wheat flour tortillas smoked turkey avocado so...</td>\n",
       "    </tr>\n",
       "    <tr>\n",
       "      <th>43597</th>\n",
       "      <td>8666</td>\n",
       "      <td>Lemon Stuffed Chicken</td>\n",
       "      <td>31</td>\n",
       "      <td>chicken^stuffing mix^lemons^salt^paprika^dried...</td>\n",
       "      <td>268713</td>\n",
       "      <td>5</td>\n",
       "      <td>chicken stuffing mix lemons salt paprika dried...</td>\n",
       "    </tr>\n",
       "    <tr>\n",
       "      <th>9896</th>\n",
       "      <td>16881</td>\n",
       "      <td>Burrito Pie</td>\n",
       "      <td>2764</td>\n",
       "      <td>ground beef^onion^minced garlic^black olives s...</td>\n",
       "      <td>268713</td>\n",
       "      <td>5</td>\n",
       "      <td>ground beef onion minced garlic black olives s...</td>\n",
       "    </tr>\n",
       "    <tr>\n",
       "      <th>62752</th>\n",
       "      <td>13513</td>\n",
       "      <td>Hearty Turkey Soup with Parsley Dumplings</td>\n",
       "      <td>57</td>\n",
       "      <td>picked over turkey carcass^water^chopped celer...</td>\n",
       "      <td>268713</td>\n",
       "      <td>5</td>\n",
       "      <td>picked over turkey carcass water chopped celer...</td>\n",
       "    </tr>\n",
       "    <tr>\n",
       "      <th>88949</th>\n",
       "      <td>21389</td>\n",
       "      <td>Classic Yorkshire Pudding</td>\n",
       "      <td>28</td>\n",
       "      <td>all-purpose flour^milk^eggs^salt^beef</td>\n",
       "      <td>268713</td>\n",
       "      <td>5</td>\n",
       "      <td>all-purpose flour milk eggs salt beef Classic ...</td>\n",
       "    </tr>\n",
       "    <tr>\n",
       "      <th>8097</th>\n",
       "      <td>17813</td>\n",
       "      <td>Thai Breaded Chicken Filets</td>\n",
       "      <td>17</td>\n",
       "      <td>skinless boneless chicken breast halves^green ...</td>\n",
       "      <td>268713</td>\n",
       "      <td>5</td>\n",
       "      <td>skinless boneless chicken breast halves green ...</td>\n",
       "    </tr>\n",
       "    <tr>\n",
       "      <th>89405</th>\n",
       "      <td>80694</td>\n",
       "      <td>Hot and Sour Chicken Soup</td>\n",
       "      <td>176</td>\n",
       "      <td>chicken broth^water^sliced fresh mushrooms^sli...</td>\n",
       "      <td>268713</td>\n",
       "      <td>5</td>\n",
       "      <td>chicken broth water sliced fresh mushrooms sli...</td>\n",
       "    </tr>\n",
       "    <tr>\n",
       "      <th>3200</th>\n",
       "      <td>26623</td>\n",
       "      <td>Mexican Meatloaf</td>\n",
       "      <td>31</td>\n",
       "      <td>lean ground beef^taco seasoning mix^refried be...</td>\n",
       "      <td>268713</td>\n",
       "      <td>5</td>\n",
       "      <td>lean ground beef taco seasoning mix refried be...</td>\n",
       "    </tr>\n",
       "    <tr>\n",
       "      <th>5884</th>\n",
       "      <td>57002</td>\n",
       "      <td>Pork Tenderloin with Dijon Marsala Sauce</td>\n",
       "      <td>581</td>\n",
       "      <td>pork tenderloins^Dijon mustard^oil^butter^shal...</td>\n",
       "      <td>268713</td>\n",
       "      <td>5</td>\n",
       "      <td>pork tenderloins Dijon mustard oil butter shal...</td>\n",
       "    </tr>\n",
       "    <tr>\n",
       "      <th>97470</th>\n",
       "      <td>25677</td>\n",
       "      <td>Kielbasa Stew</td>\n",
       "      <td>274</td>\n",
       "      <td>kielbasa sausage^butter^beef broth^tomato soup...</td>\n",
       "      <td>268713</td>\n",
       "      <td>5</td>\n",
       "      <td>kielbasa sausage butter beef broth tomato soup...</td>\n",
       "    </tr>\n",
       "    <tr>\n",
       "      <th>56991</th>\n",
       "      <td>132703</td>\n",
       "      <td>Chicken with Lemon-Caper Sauce</td>\n",
       "      <td>260</td>\n",
       "      <td>salt^all-purpose flour^skinless boneless chick...</td>\n",
       "      <td>268713</td>\n",
       "      <td>5</td>\n",
       "      <td>salt all-purpose flour skinless boneless chick...</td>\n",
       "    </tr>\n",
       "    <tr>\n",
       "      <th>75812</th>\n",
       "      <td>75981</td>\n",
       "      <td>Ashley's Chicken Katsu with Tonkatsu Sauce</td>\n",
       "      <td>88</td>\n",
       "      <td>Sauce^Worcestershire sauce^ketchup^soy sauce^p...</td>\n",
       "      <td>268713</td>\n",
       "      <td>4</td>\n",
       "      <td>Sauce Worcestershire sauce ketchup soy sauce p...</td>\n",
       "    </tr>\n",
       "    <tr>\n",
       "      <th>66743</th>\n",
       "      <td>14637</td>\n",
       "      <td>Pot Roast in Beer</td>\n",
       "      <td>101</td>\n",
       "      <td>top round steak trimmed^vegetable oil^onion^ce...</td>\n",
       "      <td>268713</td>\n",
       "      <td>4</td>\n",
       "      <td>top round steak trimmed vegetable oil onion ce...</td>\n",
       "    </tr>\n",
       "    <tr>\n",
       "      <th>72411</th>\n",
       "      <td>86575</td>\n",
       "      <td>Homefried Potatoes with Garlic and Bacon</td>\n",
       "      <td>54</td>\n",
       "      <td>bacon^russet potatoes^garlic pepper seasoning^...</td>\n",
       "      <td>268713</td>\n",
       "      <td>4</td>\n",
       "      <td>bacon russet potatoes garlic pepper seasoning ...</td>\n",
       "    </tr>\n",
       "  </tbody>\n",
       "</table>\n",
       "</div>"
      ],
      "text/plain": [
       "       recipe_id                                 recipe_name  review_nums  \\\n",
       "2631        8778                         Cajun Chicken Pasta         1545   \n",
       "69404      26670                           Taylor's Piroshki          122   \n",
       "73867      74157               Linda's Fake and Bake Chicken           63   \n",
       "50337      46530                       Guinness® Corned Beef          893   \n",
       "81816      84259             Italian Subs - Restaurant Style          109   \n",
       "29441      78299                  Boilermaker Tailgate Chili         4656   \n",
       "70207      74796                   Beer Roasted Lime Chicken          104   \n",
       "20769      77408                           Chinese Spareribs           81   \n",
       "19971      17605                              Party Kielbasa           94   \n",
       "19315      14445                       Bermuda Spinach Salad          264   \n",
       "17752      45957     Chicken Makhani (Indian Butter Chicken)          879   \n",
       "82417      24806                Smoked Turkey Tortilla Wraps           42   \n",
       "43597       8666                       Lemon Stuffed Chicken           31   \n",
       "9896       16881                                 Burrito Pie         2764   \n",
       "62752      13513   Hearty Turkey Soup with Parsley Dumplings           57   \n",
       "88949      21389                   Classic Yorkshire Pudding           28   \n",
       "8097       17813                 Thai Breaded Chicken Filets           17   \n",
       "89405      80694                   Hot and Sour Chicken Soup          176   \n",
       "3200       26623                            Mexican Meatloaf           31   \n",
       "5884       57002    Pork Tenderloin with Dijon Marsala Sauce          581   \n",
       "97470      25677                               Kielbasa Stew          274   \n",
       "56991     132703              Chicken with Lemon-Caper Sauce          260   \n",
       "75812      75981  Ashley's Chicken Katsu with Tonkatsu Sauce           88   \n",
       "66743      14637                           Pot Roast in Beer          101   \n",
       "72411      86575    Homefried Potatoes with Garlic and Bacon           54   \n",
       "\n",
       "                                             ingredients  user_id  rating  \\\n",
       "2631   linguine pasta^skinless boneless chicken breas...   268713       5   \n",
       "69404  ground beef^onion^salt^ground black pepper to ...   268713       5   \n",
       "73867  cornflake crumbs^seasoned dry bread crumbs^sal...   268713       5   \n",
       "50337   corned beef brisket^brown sugar^fluid ounce) can   268713       5   \n",
       "81816  head red leaf lettuce rinsed and torn^medium f...   268713       5   \n",
       "29441  ground beef chuck^bulk Italian sausage^chili b...   268713       5   \n",
       "70207  chicken^salt^ground black pepper^lime halved^f...   268713       5   \n",
       "20769  hoisin sauce^ketchup^honey^soy sauce^sake^rice...   268713       5   \n",
       "19971               kielbasa sausage^ketchup^grape jelly   268713       5   \n",
       "19315  eggs^bacon^spinach rinsed and chopped^croutons...   268713       5   \n",
       "17752  peanut oil^shallot finely chopped^white onion^...   268713       5   \n",
       "82417  wheat flour tortillas^smoked turkey^avocado^so...   268713       5   \n",
       "43597  chicken^stuffing mix^lemons^salt^paprika^dried...   268713       5   \n",
       "9896   ground beef^onion^minced garlic^black olives s...   268713       5   \n",
       "62752  picked over turkey carcass^water^chopped celer...   268713       5   \n",
       "88949              all-purpose flour^milk^eggs^salt^beef   268713       5   \n",
       "8097   skinless boneless chicken breast halves^green ...   268713       5   \n",
       "89405  chicken broth^water^sliced fresh mushrooms^sli...   268713       5   \n",
       "3200   lean ground beef^taco seasoning mix^refried be...   268713       5   \n",
       "5884   pork tenderloins^Dijon mustard^oil^butter^shal...   268713       5   \n",
       "97470  kielbasa sausage^butter^beef broth^tomato soup...   268713       5   \n",
       "56991  salt^all-purpose flour^skinless boneless chick...   268713       5   \n",
       "75812  Sauce^Worcestershire sauce^ketchup^soy sauce^p...   268713       4   \n",
       "66743  top round steak trimmed^vegetable oil^onion^ce...   268713       4   \n",
       "72411  bacon^russet potatoes^garlic pepper seasoning^...   268713       4   \n",
       "\n",
       "                                                  string  \n",
       "2631   linguine pasta skinless boneless chicken breas...  \n",
       "69404  ground beef onion salt ground black pepper to ...  \n",
       "73867  cornflake crumbs seasoned dry bread crumbs sal...  \n",
       "50337  corned beef brisket brown sugar fluid ounce) c...  \n",
       "81816  head red leaf lettuce rinsed and torn medium f...  \n",
       "29441  ground beef chuck bulk Italian sausage chili b...  \n",
       "70207  chicken salt ground black pepper lime halved f...  \n",
       "20769  hoisin sauce ketchup honey soy sauce sake rice...  \n",
       "19971  kielbasa sausage ketchup grape jelly Party Kie...  \n",
       "19315  eggs bacon spinach rinsed and chopped croutons...  \n",
       "17752  peanut oil shallot finely chopped white onion ...  \n",
       "82417  wheat flour tortillas smoked turkey avocado so...  \n",
       "43597  chicken stuffing mix lemons salt paprika dried...  \n",
       "9896   ground beef onion minced garlic black olives s...  \n",
       "62752  picked over turkey carcass water chopped celer...  \n",
       "88949  all-purpose flour milk eggs salt beef Classic ...  \n",
       "8097   skinless boneless chicken breast halves green ...  \n",
       "89405  chicken broth water sliced fresh mushrooms sli...  \n",
       "3200   lean ground beef taco seasoning mix refried be...  \n",
       "5884   pork tenderloins Dijon mustard oil butter shal...  \n",
       "97470  kielbasa sausage butter beef broth tomato soup...  \n",
       "56991  salt all-purpose flour skinless boneless chick...  \n",
       "75812  Sauce Worcestershire sauce ketchup soy sauce p...  \n",
       "66743  top round steak trimmed vegetable oil onion ce...  \n",
       "72411  bacon russet potatoes garlic pepper seasoning ...  "
      ]
     },
     "execution_count": 75,
     "metadata": {},
     "output_type": "execute_result"
    }
   ],
   "source": [
    "user_ratings = fulldata_small[fulldata_small['user_id'] == 268713]\n",
    "sorted_ratings = user_ratings.sort_values(by='rating', ascending=False).head(25)\n",
    "sorted_ratings"
   ]
  },
  {
   "cell_type": "markdown",
   "id": "0c98f747-f856-42ed-a815-9e561c71deb2",
   "metadata": {},
   "source": [
    "They seem to like chicken, so lets recommend them some chicken recipes."
   ]
  },
  {
   "cell_type": "code",
   "execution_count": 73,
   "id": "8df64c28-7bcc-4ade-8435-204038a15781",
   "metadata": {},
   "outputs": [
    {
     "name": "stdout",
     "output_type": "stream",
     "text": [
      "Recommendations for Cajun Chicken Pasta viewers :\n",
      "\n"
     ]
    },
    {
     "data": {
      "text/html": [
       "<style type=\"text/css\">\n",
       "#T_be4e5_row0_col0, #T_be4e5_row0_col1, #T_be4e5_row1_col0, #T_be4e5_row1_col1, #T_be4e5_row2_col0, #T_be4e5_row2_col1, #T_be4e5_row3_col0, #T_be4e5_row3_col1, #T_be4e5_row4_col0, #T_be4e5_row4_col1, #T_be4e5_row5_col0, #T_be4e5_row5_col1, #T_be4e5_row6_col0, #T_be4e5_row6_col1, #T_be4e5_row7_col0, #T_be4e5_row7_col1, #T_be4e5_row8_col0, #T_be4e5_row8_col1, #T_be4e5_row9_col0, #T_be4e5_row9_col1 {\n",
       "  background-color: white;\n",
       "  color: black;\n",
       "  border: 1.5px  solid black;\n",
       "}\n",
       "</style>\n",
       "<table id=\"T_be4e5\">\n",
       "  <thead>\n",
       "    <tr>\n",
       "      <th class=\"blank level0\" >&nbsp;</th>\n",
       "      <th id=\"T_be4e5_level0_col0\" class=\"col_heading level0 col0\" >Recipe Name</th>\n",
       "      <th id=\"T_be4e5_level0_col1\" class=\"col_heading level0 col1\" >Rating</th>\n",
       "    </tr>\n",
       "    <tr>\n",
       "      <th class=\"index_name level0\" >No</th>\n",
       "      <th class=\"blank col0\" >&nbsp;</th>\n",
       "      <th class=\"blank col1\" >&nbsp;</th>\n",
       "    </tr>\n",
       "  </thead>\n",
       "  <tbody>\n",
       "    <tr>\n",
       "      <th id=\"T_be4e5_level0_row0\" class=\"row_heading level0 row0\" >1</th>\n",
       "      <td id=\"T_be4e5_row0_col0\" class=\"data row0 col0\" >Chicken Primavera Alfredo</td>\n",
       "      <td id=\"T_be4e5_row0_col1\" class=\"data row0 col1\" >5</td>\n",
       "    </tr>\n",
       "    <tr>\n",
       "      <th id=\"T_be4e5_level0_row1\" class=\"row_heading level0 row1\" >2</th>\n",
       "      <td id=\"T_be4e5_row1_col0\" class=\"data row1 col0\" >Grilled Tequila-Lime Chicken Fajitas</td>\n",
       "      <td id=\"T_be4e5_row1_col1\" class=\"data row1 col1\" >4</td>\n",
       "    </tr>\n",
       "    <tr>\n",
       "      <th id=\"T_be4e5_level0_row2\" class=\"row_heading level0 row2\" >3</th>\n",
       "      <td id=\"T_be4e5_row2_col0\" class=\"data row2 col0\" >Herb and Chicken Pasta</td>\n",
       "      <td id=\"T_be4e5_row2_col1\" class=\"data row2 col1\" >1</td>\n",
       "    </tr>\n",
       "    <tr>\n",
       "      <th id=\"T_be4e5_level0_row3\" class=\"row_heading level0 row3\" >4</th>\n",
       "      <td id=\"T_be4e5_row3_col0\" class=\"data row3 col0\" >Easy Chicken Pasta</td>\n",
       "      <td id=\"T_be4e5_row3_col1\" class=\"data row3 col1\" >4</td>\n",
       "    </tr>\n",
       "    <tr>\n",
       "      <th id=\"T_be4e5_level0_row4\" class=\"row_heading level0 row4\" >5</th>\n",
       "      <td id=\"T_be4e5_row4_col0\" class=\"data row4 col0\" >Chicken Poppy Seed Pasta Salad</td>\n",
       "      <td id=\"T_be4e5_row4_col1\" class=\"data row4 col1\" >4</td>\n",
       "    </tr>\n",
       "    <tr>\n",
       "      <th id=\"T_be4e5_level0_row5\" class=\"row_heading level0 row5\" >6</th>\n",
       "      <td id=\"T_be4e5_row5_col0\" class=\"data row5 col0\" >Buffalo Chicken Pasta Salad</td>\n",
       "      <td id=\"T_be4e5_row5_col1\" class=\"data row5 col1\" >4</td>\n",
       "    </tr>\n",
       "    <tr>\n",
       "      <th id=\"T_be4e5_level0_row6\" class=\"row_heading level0 row6\" >7</th>\n",
       "      <td id=\"T_be4e5_row6_col0\" class=\"data row6 col0\" >Nanny's Goulash</td>\n",
       "      <td id=\"T_be4e5_row6_col1\" class=\"data row6 col1\" >4</td>\n",
       "    </tr>\n",
       "    <tr>\n",
       "      <th id=\"T_be4e5_level0_row7\" class=\"row_heading level0 row7\" >8</th>\n",
       "      <td id=\"T_be4e5_row7_col0\" class=\"data row7 col0\" >Meat and Potato Casserole</td>\n",
       "      <td id=\"T_be4e5_row7_col1\" class=\"data row7 col1\" >4</td>\n",
       "    </tr>\n",
       "    <tr>\n",
       "      <th id=\"T_be4e5_level0_row8\" class=\"row_heading level0 row8\" >9</th>\n",
       "      <td id=\"T_be4e5_row8_col0\" class=\"data row8 col0\" >Steph's Summer Salad</td>\n",
       "      <td id=\"T_be4e5_row8_col1\" class=\"data row8 col1\" >4</td>\n",
       "    </tr>\n",
       "    <tr>\n",
       "      <th id=\"T_be4e5_level0_row9\" class=\"row_heading level0 row9\" >10</th>\n",
       "      <td id=\"T_be4e5_row9_col0\" class=\"data row9 col0\" >Beer Cooked Chicken</td>\n",
       "      <td id=\"T_be4e5_row9_col1\" class=\"data row9 col1\" >4</td>\n",
       "    </tr>\n",
       "  </tbody>\n",
       "</table>\n"
      ],
      "text/plain": [
       "<pandas.io.formats.style.Styler at 0x2d8cceec0>"
      ]
     },
     "execution_count": 73,
     "metadata": {},
     "output_type": "execute_result"
    }
   ],
   "source": [
    "give_recommendation(\"Cajun Chicken Pasta\")"
   ]
  },
  {
   "cell_type": "markdown",
   "id": "d038e69e-3fc6-49c0-9d8c-9a646952bc04",
   "metadata": {},
   "source": [
    "Some notable recommendations are Grilled Tequila-Lime Chicken Fajitas and Beer Cooked Chicken. We can see that they enjoyed from their previous ratings Chicken made with both Lime and Beer (Beer Roasted Lime Chicken Rated 5/5). They also liked Lemon Stuffed Chicken (Rated 5/5), Chicken with Lemon-Caper Sauce (rated 5/5), and Pot Roast in Beer (Rated 4/5)"
   ]
  },
  {
   "cell_type": "code",
   "execution_count": null,
   "id": "56ec2b46-d2a2-46b6-b5f6-2594d695feeb",
   "metadata": {},
   "outputs": [],
   "source": []
  }
 ],
 "metadata": {
  "colab": {
   "provenance": []
  },
  "kernelspec": {
   "display_name": "Python 3 (ipykernel)",
   "language": "python",
   "name": "python3"
  },
  "language_info": {
   "codemirror_mode": {
    "name": "ipython",
    "version": 3
   },
   "file_extension": ".py",
   "mimetype": "text/x-python",
   "name": "python",
   "nbconvert_exporter": "python",
   "pygments_lexer": "ipython3",
   "version": "3.10.7"
  }
 },
 "nbformat": 4,
 "nbformat_minor": 5
}
