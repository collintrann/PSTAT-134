{
 "cells": [
  {
   "cell_type": "markdown",
   "id": "57cfb36f-e845-4cd6-afc5-a0a9044f6e21",
   "metadata": {},
   "source": [
    "# PSTAT 134 Final Project\n",
    "## Netflix Recommender System\n",
    "### Mollie Jiang, Sean Reagan, Sharon Lee, Uy Tran"
   ]
  }
 ],
 "metadata": {
  "kernelspec": {
   "display_name": "Python 3 (ipykernel)",
   "language": "python",
   "name": "python3"
  },
  "language_info": {
   "codemirror_mode": {
    "name": "ipython",
    "version": 3
   },
   "file_extension": ".py",
   "mimetype": "text/x-python",
   "name": "python",
   "nbconvert_exporter": "python",
   "pygments_lexer": "ipython3",
   "version": "3.10.7"
  }
 },
 "nbformat": 4,
 "nbformat_minor": 5
}
