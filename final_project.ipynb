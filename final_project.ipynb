{
 "cells": [
  {
   "cell_type": "markdown",
   "id": "57cfb36f-e845-4cd6-afc5-a0a9044f6e21",
   "metadata": {},
   "source": [
    "# PSTAT 134 Final Project\n",
    "## Netflix Recommender System\n",
    "Mollie Jiang, Sean Reagan, Sharon Lee, Uy Tran"
   ]
  },
  {
   "cell_type": "code",
   "execution_count": 9,
   "id": "06d4b0a2-fa94-41ca-99e7-bf9f52695d54",
   "metadata": {},
   "outputs": [
    {
     "name": "stdout",
     "output_type": "stream",
     "text": [
      "   recipe_id                        recipe_name  aver_rate  \\\n",
      "0     222388                     Homemade Bacon   5.000000   \n",
      "1     240488  Pork Loin, Apples, and Sauerkraut   4.764706   \n",
      "2     218939   Foolproof Rosemary Chicken Wings   4.571429   \n",
      "3      87211              Chicken Pesto Paninis   4.625000   \n",
      "4     245714                 Potato Bacon Pizza   4.500000   \n",
      "\n",
      "                                           image_url  review_nums  \\\n",
      "0  https://images.media-allrecipes.com/userphotos...            3   \n",
      "1  https://images.media-allrecipes.com/userphotos...           29   \n",
      "2  https://images.media-allrecipes.com/userphotos...           12   \n",
      "3  https://images.media-allrecipes.com/userphotos...          163   \n",
      "4  https://images.media-allrecipes.com/userphotos...            2   \n",
      "\n",
      "                                         ingredients  \\\n",
      "0  pork belly^smoked paprika^kosher salt^ground b...   \n",
      "1  sauerkraut drained^Granny Smith apples sliced^...   \n",
      "2  chicken wings^sprigs rosemary^head garlic^oliv...   \n",
      "3  focaccia bread quartered^prepared basil pesto^...   \n",
      "4  red potatoes^strips bacon^Sauce:^heavy whippin...   \n",
      "\n",
      "                                  cooking_directions  \\\n",
      "0  {'directions': u'Prep\\n5 m\\nCook\\n2 h 45 m\\nRe...   \n",
      "1  {'directions': u'Prep\\n15 m\\nCook\\n2 h 30 m\\nR...   \n",
      "2  {'directions': u\"Prep\\n20 m\\nCook\\n40 m\\nReady...   \n",
      "3  {'directions': u'Prep\\n15 m\\nCook\\n5 m\\nReady ...   \n",
      "4  {'directions': u'Prep\\n20 m\\nCook\\n45 m\\nReady...   \n",
      "\n",
      "                                          nutritions  \\\n",
      "0  {u'niacin': {u'hasCompleteData': False, u'name...   \n",
      "1  {u'niacin': {u'hasCompleteData': False, u'name...   \n",
      "2  {u'niacin': {u'hasCompleteData': True, u'name'...   \n",
      "3  {u'niacin': {u'hasCompleteData': True, u'name'...   \n",
      "4  {u'niacin': {u'hasCompleteData': True, u'name'...   \n",
      "\n",
      "                                             reviews  \n",
      "0  {8542392: {'rating': 5, 'followersCount': 11, ...  \n",
      "1  {3574785: {'rating': 5, 'followersCount': 0, '...  \n",
      "2  {13774946: {'rating': 5, 'followersCount': 0, ...  \n",
      "3  {1563136: {'rating': 5, 'followersCount': 0, '...  \n",
      "4  {2945555: {'rating': 5, 'followersCount': 6690...  \n"
     ]
    }
   ],
   "source": [
    "import pandas as pd\n",
    "\n",
    "recipe_df = pd.read_csv('data/recipes.csv')\n",
    "print(recipe_df.head())"
   ]
  },
  {
   "cell_type": "markdown",
   "id": "324f4a9d-1436-4259-b6b5-28a37bc4493f",
   "metadata": {},
   "source": [
    "# Data Cleaning"
   ]
  },
  {
   "cell_type": "code",
   "execution_count": 14,
   "id": "3ef08913-43f0-44c4-b5ae-da9701044adc",
   "metadata": {},
   "outputs": [
    {
     "name": "stdout",
     "output_type": "stream",
     "text": [
      "49698\n",
      "recipe_id             0\n",
      "recipe_name           0\n",
      "aver_rate             0\n",
      "image_url             0\n",
      "review_nums           0\n",
      "ingredients           0\n",
      "cooking_directions    0\n",
      "nutritions            0\n",
      "reviews               0\n",
      "dtype: int64\n"
     ]
    }
   ],
   "source": [
    "print(len(recipe_df))\n",
    "print(recipe_df.isnull().sum())"
   ]
  },
  {
   "cell_type": "markdown",
   "id": "399efc00-d0a4-4cad-8b56-db39ac507f6d",
   "metadata": {},
   "source": [
    "This dataset has 49698 rows, and no missing values so we do not have to deal with any null values."
   ]
  },
  {
   "cell_type": "code",
   "execution_count": null,
   "id": "50e990fe-3898-4334-bb29-6e1934e44177",
   "metadata": {},
   "outputs": [],
   "source": []
  }
 ],
 "metadata": {
  "kernelspec": {
   "display_name": "Python 3 (ipykernel)",
   "language": "python",
   "name": "python3"
  },
  "language_info": {
   "codemirror_mode": {
    "name": "ipython",
    "version": 3
   },
   "file_extension": ".py",
   "mimetype": "text/x-python",
   "name": "python",
   "nbconvert_exporter": "python",
   "pygments_lexer": "ipython3",
   "version": "3.10.7"
  }
 },
 "nbformat": 4,
 "nbformat_minor": 5
}
